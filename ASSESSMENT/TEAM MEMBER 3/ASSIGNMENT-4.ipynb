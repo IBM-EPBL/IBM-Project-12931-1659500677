{
 "cells": [
  {
   "cell_type": "markdown",
   "id": "6427028c",
   "metadata": {},
   "source": [
    "# Abalone Age Prediction"
   ]
  },
  {
   "cell_type": "markdown",
   "id": "28ebcdfe",
   "metadata": {},
   "source": [
    " Predicting the age of abalone from physical measurements. The age of abalone is\n",
    "determined by cutting the shell through the cone, staining it, and counting the number of rings through\n",
    "a microscope -- a boring and time-consuming task. Other measurements, which are easier to obtain,\n",
    "are used to predict age. Further information, such as weather patterns and location (hence food\n",
    "availability) may be required to solve the problem.\n"
   ]
  },
  {
   "cell_type": "code",
   "execution_count": 1,
   "id": "0d95c597",
   "metadata": {},
   "outputs": [],
   "source": [
    "import warnings\n",
    "warnings.filterwarnings('ignore')"
   ]
  },
  {
   "cell_type": "markdown",
   "id": "9458c2c6",
   "metadata": {},
   "source": [
    "# Load the dataset into the tool."
   ]
  },
  {
   "cell_type": "code",
   "execution_count": 2,
   "id": "2784d696",
   "metadata": {},
   "outputs": [
    {
     "data": {
      "text/html": [
       "<div>\n",
       "<style scoped>\n",
       "    .dataframe tbody tr th:only-of-type {\n",
       "        vertical-align: middle;\n",
       "    }\n",
       "\n",
       "    .dataframe tbody tr th {\n",
       "        vertical-align: top;\n",
       "    }\n",
       "\n",
       "    .dataframe thead th {\n",
       "        text-align: right;\n",
       "    }\n",
       "</style>\n",
       "<table border=\"1\" class=\"dataframe\">\n",
       "  <thead>\n",
       "    <tr style=\"text-align: right;\">\n",
       "      <th></th>\n",
       "      <th>Sex</th>\n",
       "      <th>Length</th>\n",
       "      <th>Diameter</th>\n",
       "      <th>Height</th>\n",
       "      <th>Whole weight</th>\n",
       "      <th>Shucked weight</th>\n",
       "      <th>Viscera weight</th>\n",
       "      <th>Shell weight</th>\n",
       "      <th>Rings</th>\n",
       "    </tr>\n",
       "  </thead>\n",
       "  <tbody>\n",
       "    <tr>\n",
       "      <th>0</th>\n",
       "      <td>M</td>\n",
       "      <td>0.455</td>\n",
       "      <td>0.365</td>\n",
       "      <td>0.095</td>\n",
       "      <td>0.5140</td>\n",
       "      <td>0.2245</td>\n",
       "      <td>0.1010</td>\n",
       "      <td>0.1500</td>\n",
       "      <td>15</td>\n",
       "    </tr>\n",
       "    <tr>\n",
       "      <th>1</th>\n",
       "      <td>M</td>\n",
       "      <td>0.350</td>\n",
       "      <td>0.265</td>\n",
       "      <td>0.090</td>\n",
       "      <td>0.2255</td>\n",
       "      <td>0.0995</td>\n",
       "      <td>0.0485</td>\n",
       "      <td>0.0700</td>\n",
       "      <td>7</td>\n",
       "    </tr>\n",
       "    <tr>\n",
       "      <th>2</th>\n",
       "      <td>F</td>\n",
       "      <td>0.530</td>\n",
       "      <td>0.420</td>\n",
       "      <td>0.135</td>\n",
       "      <td>0.6770</td>\n",
       "      <td>0.2565</td>\n",
       "      <td>0.1415</td>\n",
       "      <td>0.2100</td>\n",
       "      <td>9</td>\n",
       "    </tr>\n",
       "    <tr>\n",
       "      <th>3</th>\n",
       "      <td>M</td>\n",
       "      <td>0.440</td>\n",
       "      <td>0.365</td>\n",
       "      <td>0.125</td>\n",
       "      <td>0.5160</td>\n",
       "      <td>0.2155</td>\n",
       "      <td>0.1140</td>\n",
       "      <td>0.1550</td>\n",
       "      <td>10</td>\n",
       "    </tr>\n",
       "    <tr>\n",
       "      <th>4</th>\n",
       "      <td>I</td>\n",
       "      <td>0.330</td>\n",
       "      <td>0.255</td>\n",
       "      <td>0.080</td>\n",
       "      <td>0.2050</td>\n",
       "      <td>0.0895</td>\n",
       "      <td>0.0395</td>\n",
       "      <td>0.0550</td>\n",
       "      <td>7</td>\n",
       "    </tr>\n",
       "    <tr>\n",
       "      <th>...</th>\n",
       "      <td>...</td>\n",
       "      <td>...</td>\n",
       "      <td>...</td>\n",
       "      <td>...</td>\n",
       "      <td>...</td>\n",
       "      <td>...</td>\n",
       "      <td>...</td>\n",
       "      <td>...</td>\n",
       "      <td>...</td>\n",
       "    </tr>\n",
       "    <tr>\n",
       "      <th>4172</th>\n",
       "      <td>F</td>\n",
       "      <td>0.565</td>\n",
       "      <td>0.450</td>\n",
       "      <td>0.165</td>\n",
       "      <td>0.8870</td>\n",
       "      <td>0.3700</td>\n",
       "      <td>0.2390</td>\n",
       "      <td>0.2490</td>\n",
       "      <td>11</td>\n",
       "    </tr>\n",
       "    <tr>\n",
       "      <th>4173</th>\n",
       "      <td>M</td>\n",
       "      <td>0.590</td>\n",
       "      <td>0.440</td>\n",
       "      <td>0.135</td>\n",
       "      <td>0.9660</td>\n",
       "      <td>0.4390</td>\n",
       "      <td>0.2145</td>\n",
       "      <td>0.2605</td>\n",
       "      <td>10</td>\n",
       "    </tr>\n",
       "    <tr>\n",
       "      <th>4174</th>\n",
       "      <td>M</td>\n",
       "      <td>0.600</td>\n",
       "      <td>0.475</td>\n",
       "      <td>0.205</td>\n",
       "      <td>1.1760</td>\n",
       "      <td>0.5255</td>\n",
       "      <td>0.2875</td>\n",
       "      <td>0.3080</td>\n",
       "      <td>9</td>\n",
       "    </tr>\n",
       "    <tr>\n",
       "      <th>4175</th>\n",
       "      <td>F</td>\n",
       "      <td>0.625</td>\n",
       "      <td>0.485</td>\n",
       "      <td>0.150</td>\n",
       "      <td>1.0945</td>\n",
       "      <td>0.5310</td>\n",
       "      <td>0.2610</td>\n",
       "      <td>0.2960</td>\n",
       "      <td>10</td>\n",
       "    </tr>\n",
       "    <tr>\n",
       "      <th>4176</th>\n",
       "      <td>M</td>\n",
       "      <td>0.710</td>\n",
       "      <td>0.555</td>\n",
       "      <td>0.195</td>\n",
       "      <td>1.9485</td>\n",
       "      <td>0.9455</td>\n",
       "      <td>0.3765</td>\n",
       "      <td>0.4950</td>\n",
       "      <td>12</td>\n",
       "    </tr>\n",
       "  </tbody>\n",
       "</table>\n",
       "<p>4177 rows × 9 columns</p>\n",
       "</div>"
      ],
      "text/plain": [
       "     Sex  Length  Diameter  Height  Whole weight  Shucked weight  \\\n",
       "0      M   0.455     0.365   0.095        0.5140          0.2245   \n",
       "1      M   0.350     0.265   0.090        0.2255          0.0995   \n",
       "2      F   0.530     0.420   0.135        0.6770          0.2565   \n",
       "3      M   0.440     0.365   0.125        0.5160          0.2155   \n",
       "4      I   0.330     0.255   0.080        0.2050          0.0895   \n",
       "...   ..     ...       ...     ...           ...             ...   \n",
       "4172   F   0.565     0.450   0.165        0.8870          0.3700   \n",
       "4173   M   0.590     0.440   0.135        0.9660          0.4390   \n",
       "4174   M   0.600     0.475   0.205        1.1760          0.5255   \n",
       "4175   F   0.625     0.485   0.150        1.0945          0.5310   \n",
       "4176   M   0.710     0.555   0.195        1.9485          0.9455   \n",
       "\n",
       "      Viscera weight  Shell weight  Rings  \n",
       "0             0.1010        0.1500     15  \n",
       "1             0.0485        0.0700      7  \n",
       "2             0.1415        0.2100      9  \n",
       "3             0.1140        0.1550     10  \n",
       "4             0.0395        0.0550      7  \n",
       "...              ...           ...    ...  \n",
       "4172          0.2390        0.2490     11  \n",
       "4173          0.2145        0.2605     10  \n",
       "4174          0.2875        0.3080      9  \n",
       "4175          0.2610        0.2960     10  \n",
       "4176          0.3765        0.4950     12  \n",
       "\n",
       "[4177 rows x 9 columns]"
      ]
     },
     "execution_count": 2,
     "metadata": {},
     "output_type": "execute_result"
    }
   ],
   "source": [
    "import pandas as pd\n",
    "import statsmodels.api as sm\n",
    "file=pd.read_csv(\"C:/Users/deepika sakthivel/Downloads/abalone.csv\")\n",
    "df=pd.DataFrame(file)\n",
    "df"
   ]
  },
  {
   "cell_type": "code",
   "execution_count": 3,
   "id": "7dfecfa9",
   "metadata": {},
   "outputs": [
    {
     "data": {
      "text/plain": [
       "(4177, 9)"
      ]
     },
     "execution_count": 3,
     "metadata": {},
     "output_type": "execute_result"
    }
   ],
   "source": [
    "df.shape"
   ]
  },
  {
   "cell_type": "markdown",
   "id": "36c6f414",
   "metadata": {},
   "source": [
    "# 2. Univariate Analysis"
   ]
  },
  {
   "cell_type": "code",
   "execution_count": 4,
   "id": "b1d76610",
   "metadata": {},
   "outputs": [
    {
     "data": {
      "text/plain": [
       "<matplotlib.axes._subplots.AxesSubplot at 0x21a0a0534f0>"
      ]
     },
     "execution_count": 4,
     "metadata": {},
     "output_type": "execute_result"
    },
    {
     "data": {
      "image/png": "[encoded data removed]",
      "text/plain": [
       "<Figure size 432x288 with 1 Axes>"
      ]
     },
     "metadata": {
      "needs_background": "light"
     },
     "output_type": "display_data"
    }
   ],
   "source": [
    "import seaborn as sns\n",
    "sns.countplot(x=df['Sex'])"
   ]
  },
  {
   "cell_type": "markdown",
   "id": "5aaea079",
   "metadata": {},
   "source": [
    "Count plot of sex --->Male count is higher than female and infant"
   ]
  },
  {
   "cell_type": "markdown",
   "id": "1c122c30",
   "metadata": {},
   "source": [
    "# 2. Bi-Variate Analysis"
   ]
  },
  {
   "cell_type": "code",
   "execution_count": 5,
   "id": "41d2fee7",
   "metadata": {},
   "outputs": [
    {
     "data": {
      "text/plain": [
       "Text(0.5, 0, 'Rings')"
      ]
     },
     "execution_count": 5,
     "metadata": {},
     "output_type": "execute_result"
    },
    {
     "data": {
      "image/png": "[encoded data removed]",
      "text/plain": [
       "<Figure size 648x504 with 1 Axes>"
      ]
     },
     "metadata": {
      "needs_background": "light"
     },
     "output_type": "display_data"
    }
   ],
   "source": [
    "import matplotlib.pyplot as plt\n",
    "plt.figure(figsize= (9,7))\n",
    "plt.bar(df['Rings'],df['Whole weight'])\n",
    "\n",
    "plt.ylabel(\"Whole weight\")\n",
    "plt.xlabel(\"Rings\")\n"
   ]
  },
  {
   "cell_type": "markdown",
   "id": "e5a49a8e",
   "metadata": {},
   "source": [
    "# 3.Multi-Variate Analysis"
   ]
  },
  {
   "cell_type": "code",
   "execution_count": 6,
   "id": "3ae1bd5e",
   "metadata": {},
   "outputs": [
    {
     "data": {
      "text/plain": [
       "<matplotlib.axes._subplots.AxesSubplot at 0x21a0dfd7820>"
      ]
     },
     "execution_count": 6,
     "metadata": {},
     "output_type": "execute_result"
    },
    {
     "data": {
      "image/png": "[encoded data removed]",
      "text/plain": [
       "<Figure size 720x720 with 1 Axes>"
      ]
     },
     "metadata": {
      "needs_background": "light"
     },
     "output_type": "display_data"
    }
   ],
   "source": [
    "fig=plt.figure(figsize=(10,10))\n",
    "sns.scatterplot(data=df,hue='Sex',y='Rings',size='Length',x='Shell weight')"
   ]
  },
  {
   "cell_type": "code",
   "execution_count": 7,
   "id": "2a764dd4",
   "metadata": {},
   "outputs": [
    {
     "data": {
      "text/plain": [
       "<matplotlib.axes._subplots.AxesSubplot at 0x21a0dff4730>"
      ]
     },
     "execution_count": 7,
     "metadata": {},
     "output_type": "execute_result"
    },
    {
     "data": {
      "image/png": "[encoded data removed]",
      "text/plain": [
       "<Figure size 432x288 with 2 Axes>"
      ]
     },
     "metadata": {
      "needs_background": "light"
     },
     "output_type": "display_data"
    }
   ],
   "source": [
    "sns.heatmap(df.corr(),annot=True)"
   ]
  },
  {
   "cell_type": "markdown",
   "id": "861ebcf6",
   "metadata": {},
   "source": [
    "# 4.Perform descriptive statistics on the dataset."
   ]
  },
  {
   "cell_type": "code",
   "execution_count": 8,
   "id": "16810013",
   "metadata": {},
   "outputs": [
    {
     "data": {
      "text/html": [
       "<div>\n",
       "<style scoped>\n",
       "    .dataframe tbody tr th:only-of-type {\n",
       "        vertical-align: middle;\n",
       "    }\n",
       "\n",
       "    .dataframe tbody tr th {\n",
       "        vertical-align: top;\n",
       "    }\n",
       "\n",
       "    .dataframe thead th {\n",
       "        text-align: right;\n",
       "    }\n",
       "</style>\n",
       "<table border=\"1\" class=\"dataframe\">\n",
       "  <thead>\n",
       "    <tr style=\"text-align: right;\">\n",
       "      <th></th>\n",
       "      <th>Length</th>\n",
       "      <th>Diameter</th>\n",
       "      <th>Height</th>\n",
       "      <th>Whole weight</th>\n",
       "      <th>Shucked weight</th>\n",
       "      <th>Viscera weight</th>\n",
       "      <th>Shell weight</th>\n",
       "      <th>Rings</th>\n",
       "    </tr>\n",
       "  </thead>\n",
       "  <tbody>\n",
       "    <tr>\n",
       "      <th>count</th>\n",
       "      <td>4177.000000</td>\n",
       "      <td>4177.000000</td>\n",
       "      <td>4177.000000</td>\n",
       "      <td>4177.000000</td>\n",
       "      <td>4177.000000</td>\n",
       "      <td>4177.000000</td>\n",
       "      <td>4177.000000</td>\n",
       "      <td>4177.000000</td>\n",
       "    </tr>\n",
       "    <tr>\n",
       "      <th>mean</th>\n",
       "      <td>0.523992</td>\n",
       "      <td>0.407881</td>\n",
       "      <td>0.139516</td>\n",
       "      <td>0.828742</td>\n",
       "      <td>0.359367</td>\n",
       "      <td>0.180594</td>\n",
       "      <td>0.238831</td>\n",
       "      <td>9.933684</td>\n",
       "    </tr>\n",
       "    <tr>\n",
       "      <th>std</th>\n",
       "      <td>0.120093</td>\n",
       "      <td>0.099240</td>\n",
       "      <td>0.041827</td>\n",
       "      <td>0.490389</td>\n",
       "      <td>0.221963</td>\n",
       "      <td>0.109614</td>\n",
       "      <td>0.139203</td>\n",
       "      <td>3.224169</td>\n",
       "    </tr>\n",
       "    <tr>\n",
       "      <th>min</th>\n",
       "      <td>0.075000</td>\n",
       "      <td>0.055000</td>\n",
       "      <td>0.000000</td>\n",
       "      <td>0.002000</td>\n",
       "      <td>0.001000</td>\n",
       "      <td>0.000500</td>\n",
       "      <td>0.001500</td>\n",
       "      <td>1.000000</td>\n",
       "    </tr>\n",
       "    <tr>\n",
       "      <th>25%</th>\n",
       "      <td>0.450000</td>\n",
       "      <td>0.350000</td>\n",
       "      <td>0.115000</td>\n",
       "      <td>0.441500</td>\n",
       "      <td>0.186000</td>\n",
       "      <td>0.093500</td>\n",
       "      <td>0.130000</td>\n",
       "      <td>8.000000</td>\n",
       "    </tr>\n",
       "    <tr>\n",
       "      <th>50%</th>\n",
       "      <td>0.545000</td>\n",
       "      <td>0.425000</td>\n",
       "      <td>0.140000</td>\n",
       "      <td>0.799500</td>\n",
       "      <td>0.336000</td>\n",
       "      <td>0.171000</td>\n",
       "      <td>0.234000</td>\n",
       "      <td>9.000000</td>\n",
       "    </tr>\n",
       "    <tr>\n",
       "      <th>75%</th>\n",
       "      <td>0.615000</td>\n",
       "      <td>0.480000</td>\n",
       "      <td>0.165000</td>\n",
       "      <td>1.153000</td>\n",
       "      <td>0.502000</td>\n",
       "      <td>0.253000</td>\n",
       "      <td>0.329000</td>\n",
       "      <td>11.000000</td>\n",
       "    </tr>\n",
       "    <tr>\n",
       "      <th>max</th>\n",
       "      <td>0.815000</td>\n",
       "      <td>0.650000</td>\n",
       "      <td>1.130000</td>\n",
       "      <td>2.825500</td>\n",
       "      <td>1.488000</td>\n",
       "      <td>0.760000</td>\n",
       "      <td>1.005000</td>\n",
       "      <td>29.000000</td>\n",
       "    </tr>\n",
       "  </tbody>\n",
       "</table>\n",
       "</div>"
      ],
      "text/plain": [
       "            Length     Diameter       Height  Whole weight  Shucked weight  \\\n",
       "count  4177.000000  4177.000000  4177.000000   4177.000000     4177.000000   \n",
       "mean      0.523992     0.407881     0.139516      0.828742        0.359367   \n",
       "std       0.120093     0.099240     0.041827      0.490389        0.221963   \n",
       "min       0.075000     0.055000     0.000000      0.002000        0.001000   \n",
       "25%       0.450000     0.350000     0.115000      0.441500        0.186000   \n",
       "50%       0.545000     0.425000     0.140000      0.799500        0.336000   \n",
       "75%       0.615000     0.480000     0.165000      1.153000        0.502000   \n",
       "max       0.815000     0.650000     1.130000      2.825500        1.488000   \n",
       "\n",
       "       Viscera weight  Shell weight        Rings  \n",
       "count     4177.000000   4177.000000  4177.000000  \n",
       "mean         0.180594      0.238831     9.933684  \n",
       "std          0.109614      0.139203     3.224169  \n",
       "min          0.000500      0.001500     1.000000  \n",
       "25%          0.093500      0.130000     8.000000  \n",
       "50%          0.171000      0.234000     9.000000  \n",
       "75%          0.253000      0.329000    11.000000  \n",
       "max          0.760000      1.005000    29.000000  "
      ]
     },
     "execution_count": 8,
     "metadata": {},
     "output_type": "execute_result"
    }
   ],
   "source": [
    "df.describe()"
   ]
  },
  {
   "cell_type": "code",
   "execution_count": 9,
   "id": "5d8a54e1",
   "metadata": {},
   "outputs": [
    {
     "data": {
      "text/plain": [
       "Length            0.523992\n",
       "Diameter          0.407881\n",
       "Height            0.139516\n",
       "Whole weight      0.828742\n",
       "Shucked weight    0.359367\n",
       "Viscera weight    0.180594\n",
       "Shell weight      0.238831\n",
       "Rings             9.933684\n",
       "dtype: float64"
      ]
     },
     "execution_count": 9,
     "metadata": {},
     "output_type": "execute_result"
    }
   ],
   "source": [
    "df.mean()"
   ]
  },
  {
   "cell_type": "code",
   "execution_count": 10,
   "id": "67a115dd",
   "metadata": {},
   "outputs": [
    {
     "data": {
      "text/plain": [
       "Length            0.120093\n",
       "Diameter          0.099240\n",
       "Height            0.041827\n",
       "Whole weight      0.490389\n",
       "Shucked weight    0.221963\n",
       "Viscera weight    0.109614\n",
       "Shell weight      0.139203\n",
       "Rings             3.224169\n",
       "dtype: float64"
      ]
     },
     "execution_count": 10,
     "metadata": {},
     "output_type": "execute_result"
    }
   ],
   "source": [
    "df.std()"
   ]
  },
  {
   "cell_type": "code",
   "execution_count": 11,
   "id": "4ec4fde9",
   "metadata": {},
   "outputs": [
    {
     "data": {
      "text/html": [
       "<div>\n",
       "<style scoped>\n",
       "    .dataframe tbody tr th:only-of-type {\n",
       "        vertical-align: middle;\n",
       "    }\n",
       "\n",
       "    .dataframe tbody tr th {\n",
       "        vertical-align: top;\n",
       "    }\n",
       "\n",
       "    .dataframe thead th {\n",
       "        text-align: right;\n",
       "    }\n",
       "</style>\n",
       "<table border=\"1\" class=\"dataframe\">\n",
       "  <thead>\n",
       "    <tr style=\"text-align: right;\">\n",
       "      <th></th>\n",
       "      <th>Sex</th>\n",
       "      <th>Length</th>\n",
       "      <th>Diameter</th>\n",
       "      <th>Height</th>\n",
       "      <th>Whole weight</th>\n",
       "      <th>Shucked weight</th>\n",
       "      <th>Viscera weight</th>\n",
       "      <th>Shell weight</th>\n",
       "      <th>Rings</th>\n",
       "    </tr>\n",
       "  </thead>\n",
       "  <tbody>\n",
       "    <tr>\n",
       "      <th>0</th>\n",
       "      <td>M</td>\n",
       "      <td>0.550</td>\n",
       "      <td>0.45</td>\n",
       "      <td>0.15</td>\n",
       "      <td>0.2225</td>\n",
       "      <td>0.175</td>\n",
       "      <td>0.1715</td>\n",
       "      <td>0.275</td>\n",
       "      <td>9.0</td>\n",
       "    </tr>\n",
       "    <tr>\n",
       "      <th>1</th>\n",
       "      <td>NaN</td>\n",
       "      <td>0.625</td>\n",
       "      <td>NaN</td>\n",
       "      <td>NaN</td>\n",
       "      <td>NaN</td>\n",
       "      <td>NaN</td>\n",
       "      <td>NaN</td>\n",
       "      <td>NaN</td>\n",
       "      <td>NaN</td>\n",
       "    </tr>\n",
       "  </tbody>\n",
       "</table>\n",
       "</div>"
      ],
      "text/plain": [
       "   Sex  Length  Diameter  Height  Whole weight  Shucked weight  \\\n",
       "0    M   0.550      0.45    0.15        0.2225           0.175   \n",
       "1  NaN   0.625       NaN     NaN           NaN             NaN   \n",
       "\n",
       "   Viscera weight  Shell weight  Rings  \n",
       "0          0.1715         0.275    9.0  \n",
       "1             NaN           NaN    NaN  "
      ]
     },
     "execution_count": 11,
     "metadata": {},
     "output_type": "execute_result"
    }
   ],
   "source": [
    "df.mode()"
   ]
  },
  {
   "cell_type": "markdown",
   "id": "a54c074b",
   "metadata": {},
   "source": [
    "# 5. Check for Missing values and deal with them"
   ]
  },
  {
   "cell_type": "code",
   "execution_count": 12,
   "id": "25a0bca7",
   "metadata": {},
   "outputs": [
    {
     "data": {
      "text/plain": [
       "Sex               0\n",
       "Length            0\n",
       "Diameter          0\n",
       "Height            0\n",
       "Whole weight      0\n",
       "Shucked weight    0\n",
       "Viscera weight    0\n",
       "Shell weight      0\n",
       "Rings             0\n",
       "dtype: int64"
      ]
     },
     "execution_count": 12,
     "metadata": {},
     "output_type": "execute_result"
    }
   ],
   "source": [
    "df.isnull().sum()"
   ]
  },
  {
   "cell_type": "markdown",
   "id": "0f701334",
   "metadata": {},
   "source": [
    "# There is no missing value"
   ]
  },
  {
   "cell_type": "markdown",
   "id": "62d56f9f",
   "metadata": {},
   "source": [
    "# 6. Find the outliers and replace them outliers"
   ]
  },
  {
   "cell_type": "code",
   "execution_count": 13,
   "id": "a3369584",
   "metadata": {},
   "outputs": [
    {
     "data": {
      "image/png": "[encoded data removed]",
      "text/plain": [
       "<Figure size 720x720 with 8 Axes>"
      ]
     },
     "metadata": {
      "needs_background": "light"
     },
     "output_type": "display_data"
    }
   ],
   "source": [
    "plt.figure(figsize=(10,10))\n",
    "for n,column in enumerate(df.describe().columns):\n",
    "  plt.subplot(2,5, n+1)\n",
    "  sns.boxplot(df[column])\n",
    "  plt.title(f'{column.title()}',weight='bold')\n",
    "  plt.tight_layout()"
   ]
  },
  {
   "cell_type": "code",
   "execution_count": 18,
   "id": "a4a826b3",
   "metadata": {},
   "outputs": [
    {
     "data": {
      "text/html": [
       "<div>\n",
       "<style scoped>\n",
       "    .dataframe tbody tr th:only-of-type {\n",
       "        vertical-align: middle;\n",
       "    }\n",
       "\n",
       "    .dataframe tbody tr th {\n",
       "        vertical-align: top;\n",
       "    }\n",
       "\n",
       "    .dataframe thead th {\n",
       "        text-align: right;\n",
       "    }\n",
       "</style>\n",
       "<table border=\"1\" class=\"dataframe\">\n",
       "  <thead>\n",
       "    <tr style=\"text-align: right;\">\n",
       "      <th></th>\n",
       "      <th>Length</th>\n",
       "      <th>Diameter</th>\n",
       "      <th>Height</th>\n",
       "      <th>Whole weight</th>\n",
       "      <th>Shucked weight</th>\n",
       "      <th>Viscera weight</th>\n",
       "      <th>Shell weight</th>\n",
       "      <th>Rings</th>\n",
       "    </tr>\n",
       "  </thead>\n",
       "  <tbody>\n",
       "    <tr>\n",
       "      <th>0.25</th>\n",
       "      <td>0.450</td>\n",
       "      <td>0.35</td>\n",
       "      <td>0.115</td>\n",
       "      <td>0.4415</td>\n",
       "      <td>0.186</td>\n",
       "      <td>0.0935</td>\n",
       "      <td>0.130</td>\n",
       "      <td>8.0</td>\n",
       "    </tr>\n",
       "    <tr>\n",
       "      <th>0.75</th>\n",
       "      <td>0.615</td>\n",
       "      <td>0.48</td>\n",
       "      <td>0.165</td>\n",
       "      <td>1.1530</td>\n",
       "      <td>0.502</td>\n",
       "      <td>0.2530</td>\n",
       "      <td>0.329</td>\n",
       "      <td>11.0</td>\n",
       "    </tr>\n",
       "  </tbody>\n",
       "</table>\n",
       "</div>"
      ],
      "text/plain": [
       "      Length  Diameter  Height  Whole weight  Shucked weight  Viscera weight  \\\n",
       "0.25   0.450      0.35   0.115        0.4415           0.186          0.0935   \n",
       "0.75   0.615      0.48   0.165        1.1530           0.502          0.2530   \n",
       "\n",
       "      Shell weight  Rings  \n",
       "0.25         0.130    8.0  \n",
       "0.75         0.329   11.0  "
      ]
     },
     "execution_count": 18,
     "metadata": {},
     "output_type": "execute_result"
    }
   ],
   "source": [
    "q=df.quantile(q=[0.25,0.75])\n",
    "\n",
    "q"
   ]
  },
  {
   "cell_type": "code",
   "execution_count": 19,
   "id": "edd596d8",
   "metadata": {},
   "outputs": [
    {
     "data": {
      "text/plain": [
       "Length            0.1650\n",
       "Diameter          0.1300\n",
       "Height            0.0500\n",
       "Whole weight      0.7115\n",
       "Shucked weight    0.3160\n",
       "Viscera weight    0.1595\n",
       "Shell weight      0.1990\n",
       "Rings             3.0000\n",
       "dtype: float64"
      ]
     },
     "execution_count": 19,
     "metadata": {},
     "output_type": "execute_result"
    }
   ],
   "source": [
    "iqr=q.loc[0.75]-q.loc[0.25] \n",
    "iqr"
   ]
  },
  {
   "cell_type": "code",
   "execution_count": 20,
   "id": "23fbf9b9",
   "metadata": {},
   "outputs": [
    {
     "data": {
      "text/plain": [
       "Length            0.20250\n",
       "Diameter          0.15500\n",
       "Height            0.04000\n",
       "Whole weight     -0.62575\n",
       "Shucked weight   -0.28800\n",
       "Viscera weight   -0.14575\n",
       "Shell weight     -0.16850\n",
       "Rings             3.50000\n",
       "dtype: float64"
      ]
     },
     "execution_count": 20,
     "metadata": {},
     "output_type": "execute_result"
    }
   ],
   "source": [
    "l=q.loc[0.25]-(1.5*iqr)\n",
    "l"
   ]
  },
  {
   "cell_type": "code",
   "execution_count": 21,
   "id": "e07139cc",
   "metadata": {},
   "outputs": [
    {
     "data": {
      "text/plain": [
       "Length             0.86250\n",
       "Diameter           0.67500\n",
       "Height             0.24000\n",
       "Whole weight       2.22025\n",
       "Shucked weight     0.97600\n",
       "Viscera weight     0.49225\n",
       "Shell weight       0.62750\n",
       "Rings             15.50000\n",
       "dtype: float64"
      ]
     },
     "execution_count": 21,
     "metadata": {},
     "output_type": "execute_result"
    }
   ],
   "source": [
    "u=q.loc[0.75]+(1.5*iqr)\n",
    "u"
   ]
  },
  {
   "cell_type": "code",
   "execution_count": 22,
   "id": "8190b856",
   "metadata": {},
   "outputs": [
    {
     "data": {
      "text/plain": [
       "<matplotlib.axes._subplots.AxesSubplot at 0x21a12ca60d0>"
      ]
     },
     "execution_count": 22,
     "metadata": {},
     "output_type": "execute_result"
    },
    {
     "data": {
      "image/png": "[encoded data removed]",
      "text/plain": [
       "<Figure size 432x288 with 1 Axes>"
      ]
     },
     "metadata": {
      "needs_background": "light"
     },
     "output_type": "display_data"
    }
   ],
   "source": [
    "df['Rings']=np.where(df['Rings']>15.5,9.933684,df['Rings'])\n",
    "df['Rings']=np.where(df['Rings']<3.5,9.933684,df['Rings'])\n",
    "sns.boxplot(x=df['Rings'])"
   ]
  },
  {
   "cell_type": "markdown",
   "id": "42e0c3db",
   "metadata": {},
   "source": [
    "# 7. Check for Categorical columns and perform encoding."
   ]
  },
  {
   "cell_type": "code",
   "execution_count": 23,
   "id": "787d3690",
   "metadata": {},
   "outputs": [
    {
     "name": "stdout",
     "output_type": "stream",
     "text": [
      "<class 'pandas.core.frame.DataFrame'>\n",
      "RangeIndex: 4177 entries, 0 to 4176\n",
      "Data columns (total 9 columns):\n",
      " #   Column          Non-Null Count  Dtype  \n",
      "---  ------          --------------  -----  \n",
      " 0   Sex             4177 non-null   object \n",
      " 1   Length          4177 non-null   float64\n",
      " 2   Diameter        4177 non-null   float64\n",
      " 3   Height          4177 non-null   float64\n",
      " 4   Whole weight    4177 non-null   float64\n",
      " 5   Shucked weight  4177 non-null   float64\n",
      " 6   Viscera weight  4177 non-null   float64\n",
      " 7   Shell weight    4177 non-null   float64\n",
      " 8   Rings           4177 non-null   float64\n",
      "dtypes: float64(8), object(1)\n",
      "memory usage: 293.8+ KB\n"
     ]
    }
   ],
   "source": [
    "df.info()"
   ]
  },
  {
   "cell_type": "code",
   "execution_count": 24,
   "id": "07d95c2a",
   "metadata": {},
   "outputs": [
    {
     "data": {
      "text/plain": [
       "array(['M', 'F', 'I'], dtype=object)"
      ]
     },
     "execution_count": 24,
     "metadata": {},
     "output_type": "execute_result"
    }
   ],
   "source": [
    "df['Sex'].unique()"
   ]
  },
  {
   "cell_type": "code",
   "execution_count": 25,
   "id": "f7c42612",
   "metadata": {},
   "outputs": [],
   "source": [
    "df['Sex'].replace({'I':2,'M':1,'F':0},inplace=True)\n"
   ]
  },
  {
   "cell_type": "code",
   "execution_count": 26,
   "id": "3157b792",
   "metadata": {},
   "outputs": [
    {
     "data": {
      "text/html": [
       "<div>\n",
       "<style scoped>\n",
       "    .dataframe tbody tr th:only-of-type {\n",
       "        vertical-align: middle;\n",
       "    }\n",
       "\n",
       "    .dataframe tbody tr th {\n",
       "        vertical-align: top;\n",
       "    }\n",
       "\n",
       "    .dataframe thead th {\n",
       "        text-align: right;\n",
       "    }\n",
       "</style>\n",
       "<table border=\"1\" class=\"dataframe\">\n",
       "  <thead>\n",
       "    <tr style=\"text-align: right;\">\n",
       "      <th></th>\n",
       "      <th>Sex</th>\n",
       "      <th>Length</th>\n",
       "      <th>Diameter</th>\n",
       "      <th>Height</th>\n",
       "      <th>Whole weight</th>\n",
       "      <th>Shucked weight</th>\n",
       "      <th>Viscera weight</th>\n",
       "      <th>Shell weight</th>\n",
       "      <th>Rings</th>\n",
       "    </tr>\n",
       "  </thead>\n",
       "  <tbody>\n",
       "    <tr>\n",
       "      <th>0</th>\n",
       "      <td>1</td>\n",
       "      <td>0.455</td>\n",
       "      <td>0.365</td>\n",
       "      <td>0.095</td>\n",
       "      <td>0.5140</td>\n",
       "      <td>0.2245</td>\n",
       "      <td>0.1010</td>\n",
       "      <td>0.1500</td>\n",
       "      <td>15.0</td>\n",
       "    </tr>\n",
       "    <tr>\n",
       "      <th>1</th>\n",
       "      <td>1</td>\n",
       "      <td>0.350</td>\n",
       "      <td>0.265</td>\n",
       "      <td>0.090</td>\n",
       "      <td>0.2255</td>\n",
       "      <td>0.0995</td>\n",
       "      <td>0.0485</td>\n",
       "      <td>0.0700</td>\n",
       "      <td>7.0</td>\n",
       "    </tr>\n",
       "    <tr>\n",
       "      <th>2</th>\n",
       "      <td>0</td>\n",
       "      <td>0.530</td>\n",
       "      <td>0.420</td>\n",
       "      <td>0.135</td>\n",
       "      <td>0.6770</td>\n",
       "      <td>0.2565</td>\n",
       "      <td>0.1415</td>\n",
       "      <td>0.2100</td>\n",
       "      <td>9.0</td>\n",
       "    </tr>\n",
       "    <tr>\n",
       "      <th>3</th>\n",
       "      <td>1</td>\n",
       "      <td>0.440</td>\n",
       "      <td>0.365</td>\n",
       "      <td>0.125</td>\n",
       "      <td>0.5160</td>\n",
       "      <td>0.2155</td>\n",
       "      <td>0.1140</td>\n",
       "      <td>0.1550</td>\n",
       "      <td>10.0</td>\n",
       "    </tr>\n",
       "    <tr>\n",
       "      <th>4</th>\n",
       "      <td>2</td>\n",
       "      <td>0.330</td>\n",
       "      <td>0.255</td>\n",
       "      <td>0.080</td>\n",
       "      <td>0.2050</td>\n",
       "      <td>0.0895</td>\n",
       "      <td>0.0395</td>\n",
       "      <td>0.0550</td>\n",
       "      <td>7.0</td>\n",
       "    </tr>\n",
       "    <tr>\n",
       "      <th>...</th>\n",
       "      <td>...</td>\n",
       "      <td>...</td>\n",
       "      <td>...</td>\n",
       "      <td>...</td>\n",
       "      <td>...</td>\n",
       "      <td>...</td>\n",
       "      <td>...</td>\n",
       "      <td>...</td>\n",
       "      <td>...</td>\n",
       "    </tr>\n",
       "    <tr>\n",
       "      <th>4172</th>\n",
       "      <td>0</td>\n",
       "      <td>0.565</td>\n",
       "      <td>0.450</td>\n",
       "      <td>0.165</td>\n",
       "      <td>0.8870</td>\n",
       "      <td>0.3700</td>\n",
       "      <td>0.2390</td>\n",
       "      <td>0.2490</td>\n",
       "      <td>11.0</td>\n",
       "    </tr>\n",
       "    <tr>\n",
       "      <th>4173</th>\n",
       "      <td>1</td>\n",
       "      <td>0.590</td>\n",
       "      <td>0.440</td>\n",
       "      <td>0.135</td>\n",
       "      <td>0.9660</td>\n",
       "      <td>0.4390</td>\n",
       "      <td>0.2145</td>\n",
       "      <td>0.2605</td>\n",
       "      <td>10.0</td>\n",
       "    </tr>\n",
       "    <tr>\n",
       "      <th>4174</th>\n",
       "      <td>1</td>\n",
       "      <td>0.600</td>\n",
       "      <td>0.475</td>\n",
       "      <td>0.205</td>\n",
       "      <td>1.1760</td>\n",
       "      <td>0.5255</td>\n",
       "      <td>0.2875</td>\n",
       "      <td>0.3080</td>\n",
       "      <td>9.0</td>\n",
       "    </tr>\n",
       "    <tr>\n",
       "      <th>4175</th>\n",
       "      <td>0</td>\n",
       "      <td>0.625</td>\n",
       "      <td>0.485</td>\n",
       "      <td>0.150</td>\n",
       "      <td>1.0945</td>\n",
       "      <td>0.5310</td>\n",
       "      <td>0.2610</td>\n",
       "      <td>0.2960</td>\n",
       "      <td>10.0</td>\n",
       "    </tr>\n",
       "    <tr>\n",
       "      <th>4176</th>\n",
       "      <td>1</td>\n",
       "      <td>0.710</td>\n",
       "      <td>0.555</td>\n",
       "      <td>0.195</td>\n",
       "      <td>1.9485</td>\n",
       "      <td>0.9455</td>\n",
       "      <td>0.3765</td>\n",
       "      <td>0.4950</td>\n",
       "      <td>12.0</td>\n",
       "    </tr>\n",
       "  </tbody>\n",
       "</table>\n",
       "<p>4177 rows × 9 columns</p>\n",
       "</div>"
      ],
      "text/plain": [
       "      Sex  Length  Diameter  Height  Whole weight  Shucked weight  \\\n",
       "0       1   0.455     0.365   0.095        0.5140          0.2245   \n",
       "1       1   0.350     0.265   0.090        0.2255          0.0995   \n",
       "2       0   0.530     0.420   0.135        0.6770          0.2565   \n",
       "3       1   0.440     0.365   0.125        0.5160          0.2155   \n",
       "4       2   0.330     0.255   0.080        0.2050          0.0895   \n",
       "...   ...     ...       ...     ...           ...             ...   \n",
       "4172    0   0.565     0.450   0.165        0.8870          0.3700   \n",
       "4173    1   0.590     0.440   0.135        0.9660          0.4390   \n",
       "4174    1   0.600     0.475   0.205        1.1760          0.5255   \n",
       "4175    0   0.625     0.485   0.150        1.0945          0.5310   \n",
       "4176    1   0.710     0.555   0.195        1.9485          0.9455   \n",
       "\n",
       "      Viscera weight  Shell weight  Rings  \n",
       "0             0.1010        0.1500   15.0  \n",
       "1             0.0485        0.0700    7.0  \n",
       "2             0.1415        0.2100    9.0  \n",
       "3             0.1140        0.1550   10.0  \n",
       "4             0.0395        0.0550    7.0  \n",
       "...              ...           ...    ...  \n",
       "4172          0.2390        0.2490   11.0  \n",
       "4173          0.2145        0.2605   10.0  \n",
       "4174          0.2875        0.3080    9.0  \n",
       "4175          0.2610        0.2960   10.0  \n",
       "4176          0.3765        0.4950   12.0  \n",
       "\n",
       "[4177 rows x 9 columns]"
      ]
     },
     "execution_count": 26,
     "metadata": {},
     "output_type": "execute_result"
    }
   ],
   "source": [
    "df"
   ]
  },
  {
   "cell_type": "code",
   "execution_count": 27,
   "id": "858c725c",
   "metadata": {},
   "outputs": [],
   "source": [
    "for i in df:\n",
    "    if df[i].dtype==object:\n",
    "        from sklearn.preprocessing import LabelEncoder\n",
    "        label=LabelEncoder()\n",
    "        df[i]=label.fit_transform(df[i])"
   ]
  },
  {
   "cell_type": "markdown",
   "id": "57ea0d15",
   "metadata": {},
   "source": [
    "# 8. Split the data into dependent and independent variables"
   ]
  },
  {
   "cell_type": "code",
   "execution_count": 28,
   "id": "3f102517",
   "metadata": {},
   "outputs": [],
   "source": [
    "x = df.drop('Rings',axis=1)\n",
    "y = df['Rings']"
   ]
  },
  {
   "cell_type": "code",
   "execution_count": 29,
   "id": "a923c0c6",
   "metadata": {},
   "outputs": [
    {
     "data": {
      "text/html": [
       "<div>\n",
       "<style scoped>\n",
       "    .dataframe tbody tr th:only-of-type {\n",
       "        vertical-align: middle;\n",
       "    }\n",
       "\n",
       "    .dataframe tbody tr th {\n",
       "        vertical-align: top;\n",
       "    }\n",
       "\n",
       "    .dataframe thead th {\n",
       "        text-align: right;\n",
       "    }\n",
       "</style>\n",
       "<table border=\"1\" class=\"dataframe\">\n",
       "  <thead>\n",
       "    <tr style=\"text-align: right;\">\n",
       "      <th></th>\n",
       "      <th>Sex</th>\n",
       "      <th>Length</th>\n",
       "      <th>Diameter</th>\n",
       "      <th>Height</th>\n",
       "      <th>Whole weight</th>\n",
       "      <th>Shucked weight</th>\n",
       "      <th>Viscera weight</th>\n",
       "      <th>Shell weight</th>\n",
       "    </tr>\n",
       "  </thead>\n",
       "  <tbody>\n",
       "    <tr>\n",
       "      <th>0</th>\n",
       "      <td>1</td>\n",
       "      <td>0.455</td>\n",
       "      <td>0.365</td>\n",
       "      <td>0.095</td>\n",
       "      <td>0.5140</td>\n",
       "      <td>0.2245</td>\n",
       "      <td>0.1010</td>\n",
       "      <td>0.1500</td>\n",
       "    </tr>\n",
       "    <tr>\n",
       "      <th>1</th>\n",
       "      <td>1</td>\n",
       "      <td>0.350</td>\n",
       "      <td>0.265</td>\n",
       "      <td>0.090</td>\n",
       "      <td>0.2255</td>\n",
       "      <td>0.0995</td>\n",
       "      <td>0.0485</td>\n",
       "      <td>0.0700</td>\n",
       "    </tr>\n",
       "    <tr>\n",
       "      <th>2</th>\n",
       "      <td>0</td>\n",
       "      <td>0.530</td>\n",
       "      <td>0.420</td>\n",
       "      <td>0.135</td>\n",
       "      <td>0.6770</td>\n",
       "      <td>0.2565</td>\n",
       "      <td>0.1415</td>\n",
       "      <td>0.2100</td>\n",
       "    </tr>\n",
       "    <tr>\n",
       "      <th>3</th>\n",
       "      <td>1</td>\n",
       "      <td>0.440</td>\n",
       "      <td>0.365</td>\n",
       "      <td>0.125</td>\n",
       "      <td>0.5160</td>\n",
       "      <td>0.2155</td>\n",
       "      <td>0.1140</td>\n",
       "      <td>0.1550</td>\n",
       "    </tr>\n",
       "    <tr>\n",
       "      <th>4</th>\n",
       "      <td>2</td>\n",
       "      <td>0.330</td>\n",
       "      <td>0.255</td>\n",
       "      <td>0.080</td>\n",
       "      <td>0.2050</td>\n",
       "      <td>0.0895</td>\n",
       "      <td>0.0395</td>\n",
       "      <td>0.0550</td>\n",
       "    </tr>\n",
       "    <tr>\n",
       "      <th>...</th>\n",
       "      <td>...</td>\n",
       "      <td>...</td>\n",
       "      <td>...</td>\n",
       "      <td>...</td>\n",
       "      <td>...</td>\n",
       "      <td>...</td>\n",
       "      <td>...</td>\n",
       "      <td>...</td>\n",
       "    </tr>\n",
       "    <tr>\n",
       "      <th>4172</th>\n",
       "      <td>0</td>\n",
       "      <td>0.565</td>\n",
       "      <td>0.450</td>\n",
       "      <td>0.165</td>\n",
       "      <td>0.8870</td>\n",
       "      <td>0.3700</td>\n",
       "      <td>0.2390</td>\n",
       "      <td>0.2490</td>\n",
       "    </tr>\n",
       "    <tr>\n",
       "      <th>4173</th>\n",
       "      <td>1</td>\n",
       "      <td>0.590</td>\n",
       "      <td>0.440</td>\n",
       "      <td>0.135</td>\n",
       "      <td>0.9660</td>\n",
       "      <td>0.4390</td>\n",
       "      <td>0.2145</td>\n",
       "      <td>0.2605</td>\n",
       "    </tr>\n",
       "    <tr>\n",
       "      <th>4174</th>\n",
       "      <td>1</td>\n",
       "      <td>0.600</td>\n",
       "      <td>0.475</td>\n",
       "      <td>0.205</td>\n",
       "      <td>1.1760</td>\n",
       "      <td>0.5255</td>\n",
       "      <td>0.2875</td>\n",
       "      <td>0.3080</td>\n",
       "    </tr>\n",
       "    <tr>\n",
       "      <th>4175</th>\n",
       "      <td>0</td>\n",
       "      <td>0.625</td>\n",
       "      <td>0.485</td>\n",
       "      <td>0.150</td>\n",
       "      <td>1.0945</td>\n",
       "      <td>0.5310</td>\n",
       "      <td>0.2610</td>\n",
       "      <td>0.2960</td>\n",
       "    </tr>\n",
       "    <tr>\n",
       "      <th>4176</th>\n",
       "      <td>1</td>\n",
       "      <td>0.710</td>\n",
       "      <td>0.555</td>\n",
       "      <td>0.195</td>\n",
       "      <td>1.9485</td>\n",
       "      <td>0.9455</td>\n",
       "      <td>0.3765</td>\n",
       "      <td>0.4950</td>\n",
       "    </tr>\n",
       "  </tbody>\n",
       "</table>\n",
       "<p>4177 rows × 8 columns</p>\n",
       "</div>"
      ],
      "text/plain": [
       "      Sex  Length  Diameter  Height  Whole weight  Shucked weight  \\\n",
       "0       1   0.455     0.365   0.095        0.5140          0.2245   \n",
       "1       1   0.350     0.265   0.090        0.2255          0.0995   \n",
       "2       0   0.530     0.420   0.135        0.6770          0.2565   \n",
       "3       1   0.440     0.365   0.125        0.5160          0.2155   \n",
       "4       2   0.330     0.255   0.080        0.2050          0.0895   \n",
       "...   ...     ...       ...     ...           ...             ...   \n",
       "4172    0   0.565     0.450   0.165        0.8870          0.3700   \n",
       "4173    1   0.590     0.440   0.135        0.9660          0.4390   \n",
       "4174    1   0.600     0.475   0.205        1.1760          0.5255   \n",
       "4175    0   0.625     0.485   0.150        1.0945          0.5310   \n",
       "4176    1   0.710     0.555   0.195        1.9485          0.9455   \n",
       "\n",
       "      Viscera weight  Shell weight  \n",
       "0             0.1010        0.1500  \n",
       "1             0.0485        0.0700  \n",
       "2             0.1415        0.2100  \n",
       "3             0.1140        0.1550  \n",
       "4             0.0395        0.0550  \n",
       "...              ...           ...  \n",
       "4172          0.2390        0.2490  \n",
       "4173          0.2145        0.2605  \n",
       "4174          0.2875        0.3080  \n",
       "4175          0.2610        0.2960  \n",
       "4176          0.3765        0.4950  \n",
       "\n",
       "[4177 rows x 8 columns]"
      ]
     },
     "execution_count": 29,
     "metadata": {},
     "output_type": "execute_result"
    }
   ],
   "source": [
    "x"
   ]
  },
  {
   "cell_type": "code",
   "execution_count": 30,
   "id": "dad9cbef",
   "metadata": {},
   "outputs": [
    {
     "data": {
      "text/plain": [
       "0       15.0\n",
       "1        7.0\n",
       "2        9.0\n",
       "3       10.0\n",
       "4        7.0\n",
       "        ... \n",
       "4172    11.0\n",
       "4173    10.0\n",
       "4174     9.0\n",
       "4175    10.0\n",
       "4176    12.0\n",
       "Name: Rings, Length: 4177, dtype: float64"
      ]
     },
     "execution_count": 30,
     "metadata": {},
     "output_type": "execute_result"
    }
   ],
   "source": [
    "y"
   ]
  },
  {
   "cell_type": "markdown",
   "id": "1f8f4db8",
   "metadata": {},
   "source": [
    "# 9. Scale the independent variable"
   ]
  },
  {
   "cell_type": "code",
   "execution_count": 45,
   "id": "14987f06",
   "metadata": {},
   "outputs": [
    {
     "data": {
      "text/plain": [
       "array([[-0.0105225 , -0.57455813, -0.5018095 , ..., -0.60768536,\n",
       "        -0.72621157, -0.63821689],\n",
       "       [-0.0105225 , -1.44898585, -1.57305799, ..., -1.17090984,\n",
       "        -1.20522124, -1.21298732],\n",
       "       [-1.26630752,  0.05003309,  0.08737717, ..., -0.4634999 ,\n",
       "        -0.35668983, -0.20713907],\n",
       "       ...,\n",
       "       [-0.0105225 ,  0.6329849 ,  0.67656384, ...,  0.74855917,\n",
       "         0.97541324,  0.49695471],\n",
       "       [-1.26630752,  0.84118198,  0.78368869, ...,  0.77334105,\n",
       "         0.73362741,  0.41073914],\n",
       "       [-0.0105225 ,  1.54905203,  1.53356263, ...,  2.64099341,\n",
       "         1.78744868,  1.84048058]])"
      ]
     },
     "execution_count": 45,
     "metadata": {},
     "output_type": "execute_result"
    }
   ],
   "source": [
    "from sklearn.preprocessing import scale\n",
    "x=scale(x)\n",
    "x"
   ]
  },
  {
   "cell_type": "markdown",
   "id": "72a1caa6",
   "metadata": {},
   "source": [
    "# 10. Split the data into training and testing"
   ]
  },
  {
   "cell_type": "code",
   "execution_count": 32,
   "id": "c7db8d4d",
   "metadata": {},
   "outputs": [],
   "source": [
    "from sklearn.model_selection import train_test_split\n",
    "from sklearn.linear_model import LinearRegression\n",
    "from sklearn.metrics import r2_score\n",
    "x_train,x_test,y_train,y_test=train_test_split(x,y,test_size=0.2,random_state=0)"
   ]
  },
  {
   "cell_type": "markdown",
   "id": "7e6e1ab9",
   "metadata": {},
   "source": [
    "# 11. Build the Model\n"
   ]
  },
  {
   "cell_type": "code",
   "execution_count": 35,
   "id": "ef339f7b",
   "metadata": {},
   "outputs": [
    {
     "data": {
      "text/html": [
       "<style>#sk-container-id-2 {color: black;background-color: white;}#sk-container-id-2 pre{padding: 0;}#sk-container-id-2 div.sk-toggleable {background-color: white;}#sk-container-id-2 label.sk-toggleable__label {cursor: pointer;display: block;width: 100%;margin-bottom: 0;padding: 0.3em;box-sizing: border-box;text-align: center;}#sk-container-id-2 label.sk-toggleable__label-arrow:before {content: \"▸\";float: left;margin-right: 0.25em;color: #696969;}#sk-container-id-2 label.sk-toggleable__label-arrow:hover:before {color: black;}#sk-container-id-2 div.sk-estimator:hover label.sk-toggleable__label-arrow:before {color: black;}#sk-container-id-2 div.sk-toggleable__content {max-height: 0;max-width: 0;overflow: hidden;text-align: left;background-color: #f0f8ff;}#sk-container-id-2 div.sk-toggleable__content pre {margin: 0.2em;color: black;border-radius: 0.25em;background-color: #f0f8ff;}#sk-container-id-2 input.sk-toggleable__control:checked~div.sk-toggleable__content {max-height: 200px;max-width: 100%;overflow: auto;}#sk-container-id-2 input.sk-toggleable__control:checked~label.sk-toggleable__label-arrow:before {content: \"▾\";}#sk-container-id-2 div.sk-estimator input.sk-toggleable__control:checked~label.sk-toggleable__label {background-color: #d4ebff;}#sk-container-id-2 div.sk-label input.sk-toggleable__control:checked~label.sk-toggleable__label {background-color: #d4ebff;}#sk-container-id-2 input.sk-hidden--visually {border: 0;clip: rect(1px 1px 1px 1px);clip: rect(1px, 1px, 1px, 1px);height: 1px;margin: -1px;overflow: hidden;padding: 0;position: absolute;width: 1px;}#sk-container-id-2 div.sk-estimator {font-family: monospace;background-color: #f0f8ff;border: 1px dotted black;border-radius: 0.25em;box-sizing: border-box;margin-bottom: 0.5em;}#sk-container-id-2 div.sk-estimator:hover {background-color: #d4ebff;}#sk-container-id-2 div.sk-parallel-item::after {content: \"\";width: 100%;border-bottom: 1px solid gray;flex-grow: 1;}#sk-container-id-2 div.sk-label:hover label.sk-toggleable__label {background-color: #d4ebff;}#sk-container-id-2 div.sk-serial::before {content: \"\";position: absolute;border-left: 1px solid gray;box-sizing: border-box;top: 0;bottom: 0;left: 50%;z-index: 0;}#sk-container-id-2 div.sk-serial {display: flex;flex-direction: column;align-items: center;background-color: white;padding-right: 0.2em;padding-left: 0.2em;position: relative;}#sk-container-id-2 div.sk-item {position: relative;z-index: 1;}#sk-container-id-2 div.sk-parallel {display: flex;align-items: stretch;justify-content: center;background-color: white;position: relative;}#sk-container-id-2 div.sk-item::before, #sk-container-id-2 div.sk-parallel-item::before {content: \"\";position: absolute;border-left: 1px solid gray;box-sizing: border-box;top: 0;bottom: 0;left: 50%;z-index: -1;}#sk-container-id-2 div.sk-parallel-item {display: flex;flex-direction: column;z-index: 1;position: relative;background-color: white;}#sk-container-id-2 div.sk-parallel-item:first-child::after {align-self: flex-end;width: 50%;}#sk-container-id-2 div.sk-parallel-item:last-child::after {align-self: flex-start;width: 50%;}#sk-container-id-2 div.sk-parallel-item:only-child::after {width: 0;}#sk-container-id-2 div.sk-dashed-wrapped {border: 1px dashed gray;margin: 0 0.4em 0.5em 0.4em;box-sizing: border-box;padding-bottom: 0.4em;background-color: white;}#sk-container-id-2 div.sk-label label {font-family: monospace;font-weight: bold;display: inline-block;line-height: 1.2em;}#sk-container-id-2 div.sk-label-container {text-align: center;}#sk-container-id-2 div.sk-container {/* jupyter's `normalize.less` sets `[hidden] { display: none; }` but bootstrap.min.css set `[hidden] { display: none !important; }` so we also need the `!important` here to be able to override the default hidden behavior on the sphinx rendered scikit-learn.org. See: https://github.com/scikit-learn/scikit-learn/issues/21755 */display: inline-block !important;position: relative;}#sk-container-id-2 div.sk-text-repr-fallback {display: none;}</style><div id=\"sk-container-id-2\" class=\"sk-top-container\"><div class=\"sk-text-repr-fallback\"><pre>LinearRegression()</pre><b>In a Jupyter environment, please rerun this cell to show the HTML representation or trust the notebook. <br />On GitHub, the HTML representation is unable to render, please try loading this page with nbviewer.org.</b></div><div class=\"sk-container\" hidden><div class=\"sk-item\"><div class=\"sk-estimator sk-toggleable\"><input class=\"sk-toggleable__control sk-hidden--visually\" id=\"sk-estimator-id-2\" type=\"checkbox\" checked><label for=\"sk-estimator-id-2\" class=\"sk-toggleable__label sk-toggleable__label-arrow\">LinearRegression</label><div class=\"sk-toggleable__content\"><pre>LinearRegression()</pre></div></div></div></div></div>"
      ],
      "text/plain": [
       "LinearRegression()"
      ]
     },
     "execution_count": 35,
     "metadata": {},
     "output_type": "execute_result"
    }
   ],
   "source": [
    "regressor=LinearRegression()\n",
    "regressor.fit(x_train,y_train)"
   ]
  },
  {
   "cell_type": "code",
   "execution_count": 39,
   "id": "ffdac087",
   "metadata": {},
   "outputs": [
    {
     "data": {
      "text/html": [
       "<div>\n",
       "<style scoped>\n",
       "    .dataframe tbody tr th:only-of-type {\n",
       "        vertical-align: middle;\n",
       "    }\n",
       "\n",
       "    .dataframe tbody tr th {\n",
       "        vertical-align: top;\n",
       "    }\n",
       "\n",
       "    .dataframe thead th {\n",
       "        text-align: right;\n",
       "    }\n",
       "</style>\n",
       "<table border=\"1\" class=\"dataframe\">\n",
       "  <thead>\n",
       "    <tr style=\"text-align: right;\">\n",
       "      <th></th>\n",
       "      <th>Sex</th>\n",
       "      <th>Length</th>\n",
       "      <th>Diameter</th>\n",
       "      <th>Height</th>\n",
       "      <th>Whole weight</th>\n",
       "      <th>Shucked weight</th>\n",
       "      <th>Viscera weight</th>\n",
       "      <th>Shell weight</th>\n",
       "    </tr>\n",
       "  </thead>\n",
       "  <tbody>\n",
       "    <tr>\n",
       "      <th>3141</th>\n",
       "      <td>2</td>\n",
       "      <td>0.180</td>\n",
       "      <td>0.407881</td>\n",
       "      <td>0.080</td>\n",
       "      <td>0.0330</td>\n",
       "      <td>0.0145</td>\n",
       "      <td>0.0070</td>\n",
       "      <td>0.0100</td>\n",
       "    </tr>\n",
       "    <tr>\n",
       "      <th>3521</th>\n",
       "      <td>2</td>\n",
       "      <td>0.215</td>\n",
       "      <td>0.407881</td>\n",
       "      <td>0.055</td>\n",
       "      <td>0.0410</td>\n",
       "      <td>0.0150</td>\n",
       "      <td>0.0090</td>\n",
       "      <td>0.0125</td>\n",
       "    </tr>\n",
       "    <tr>\n",
       "      <th>883</th>\n",
       "      <td>1</td>\n",
       "      <td>0.660</td>\n",
       "      <td>0.530000</td>\n",
       "      <td>0.170</td>\n",
       "      <td>1.3905</td>\n",
       "      <td>0.5905</td>\n",
       "      <td>0.2120</td>\n",
       "      <td>0.4530</td>\n",
       "    </tr>\n",
       "    <tr>\n",
       "      <th>3627</th>\n",
       "      <td>1</td>\n",
       "      <td>0.715</td>\n",
       "      <td>0.525000</td>\n",
       "      <td>0.200</td>\n",
       "      <td>1.8900</td>\n",
       "      <td>0.9500</td>\n",
       "      <td>0.4360</td>\n",
       "      <td>0.4305</td>\n",
       "    </tr>\n",
       "    <tr>\n",
       "      <th>2106</th>\n",
       "      <td>1</td>\n",
       "      <td>0.595</td>\n",
       "      <td>0.455000</td>\n",
       "      <td>0.155</td>\n",
       "      <td>1.0410</td>\n",
       "      <td>0.4160</td>\n",
       "      <td>0.2105</td>\n",
       "      <td>0.3650</td>\n",
       "    </tr>\n",
       "    <tr>\n",
       "      <th>...</th>\n",
       "      <td>...</td>\n",
       "      <td>...</td>\n",
       "      <td>...</td>\n",
       "      <td>...</td>\n",
       "      <td>...</td>\n",
       "      <td>...</td>\n",
       "      <td>...</td>\n",
       "      <td>...</td>\n",
       "    </tr>\n",
       "    <tr>\n",
       "      <th>1033</th>\n",
       "      <td>1</td>\n",
       "      <td>0.650</td>\n",
       "      <td>0.525000</td>\n",
       "      <td>0.185</td>\n",
       "      <td>1.6220</td>\n",
       "      <td>0.6645</td>\n",
       "      <td>0.3225</td>\n",
       "      <td>0.4770</td>\n",
       "    </tr>\n",
       "    <tr>\n",
       "      <th>3264</th>\n",
       "      <td>0</td>\n",
       "      <td>0.655</td>\n",
       "      <td>0.500000</td>\n",
       "      <td>0.140</td>\n",
       "      <td>1.1705</td>\n",
       "      <td>0.5405</td>\n",
       "      <td>0.3175</td>\n",
       "      <td>0.2850</td>\n",
       "    </tr>\n",
       "    <tr>\n",
       "      <th>1653</th>\n",
       "      <td>1</td>\n",
       "      <td>0.595</td>\n",
       "      <td>0.450000</td>\n",
       "      <td>0.145</td>\n",
       "      <td>0.9590</td>\n",
       "      <td>0.4630</td>\n",
       "      <td>0.2065</td>\n",
       "      <td>0.2535</td>\n",
       "    </tr>\n",
       "    <tr>\n",
       "      <th>2607</th>\n",
       "      <td>0</td>\n",
       "      <td>0.625</td>\n",
       "      <td>0.490000</td>\n",
       "      <td>0.165</td>\n",
       "      <td>1.1270</td>\n",
       "      <td>0.4770</td>\n",
       "      <td>0.2365</td>\n",
       "      <td>0.3185</td>\n",
       "    </tr>\n",
       "    <tr>\n",
       "      <th>2732</th>\n",
       "      <td>2</td>\n",
       "      <td>0.410</td>\n",
       "      <td>0.325000</td>\n",
       "      <td>0.110</td>\n",
       "      <td>0.3260</td>\n",
       "      <td>0.1325</td>\n",
       "      <td>0.0750</td>\n",
       "      <td>0.1010</td>\n",
       "    </tr>\n",
       "  </tbody>\n",
       "</table>\n",
       "<p>3341 rows × 8 columns</p>\n",
       "</div>"
      ],
      "text/plain": [
       "      Sex  Length  Diameter  Height  Whole weight  Shucked weight  \\\n",
       "3141    2   0.180  0.407881   0.080        0.0330          0.0145   \n",
       "3521    2   0.215  0.407881   0.055        0.0410          0.0150   \n",
       "883     1   0.660  0.530000   0.170        1.3905          0.5905   \n",
       "3627    1   0.715  0.525000   0.200        1.8900          0.9500   \n",
       "2106    1   0.595  0.455000   0.155        1.0410          0.4160   \n",
       "...   ...     ...       ...     ...           ...             ...   \n",
       "1033    1   0.650  0.525000   0.185        1.6220          0.6645   \n",
       "3264    0   0.655  0.500000   0.140        1.1705          0.5405   \n",
       "1653    1   0.595  0.450000   0.145        0.9590          0.4630   \n",
       "2607    0   0.625  0.490000   0.165        1.1270          0.4770   \n",
       "2732    2   0.410  0.325000   0.110        0.3260          0.1325   \n",
       "\n",
       "      Viscera weight  Shell weight  \n",
       "3141          0.0070        0.0100  \n",
       "3521          0.0090        0.0125  \n",
       "883           0.2120        0.4530  \n",
       "3627          0.4360        0.4305  \n",
       "2106          0.2105        0.3650  \n",
       "...              ...           ...  \n",
       "1033          0.3225        0.4770  \n",
       "3264          0.3175        0.2850  \n",
       "1653          0.2065        0.2535  \n",
       "2607          0.2365        0.3185  \n",
       "2732          0.0750        0.1010  \n",
       "\n",
       "[3341 rows x 8 columns]"
      ]
     },
     "execution_count": 39,
     "metadata": {},
     "output_type": "execute_result"
    }
   ],
   "source": [
    "x_train"
   ]
  },
  {
   "cell_type": "code",
   "execution_count": 40,
   "id": "374509b5",
   "metadata": {},
   "outputs": [
    {
     "data": {
      "text/plain": [
       "3141     5.000000\n",
       "3521     9.933684\n",
       "883     15.000000\n",
       "3627    10.000000\n",
       "2106    14.000000\n",
       "          ...    \n",
       "1033    10.000000\n",
       "3264    12.000000\n",
       "1653    10.000000\n",
       "2607     9.000000\n",
       "2732     8.000000\n",
       "Name: Rings, Length: 3341, dtype: float64"
      ]
     },
     "execution_count": 40,
     "metadata": {},
     "output_type": "execute_result"
    }
   ],
   "source": [
    "y_train"
   ]
  },
  {
   "cell_type": "markdown",
   "id": "c1013728",
   "metadata": {},
   "source": [
    "# 12. Train the Model"
   ]
  },
  {
   "cell_type": "code",
   "execution_count": 38,
   "id": "688f3229",
   "metadata": {},
   "outputs": [
    {
     "data": {
      "text/plain": [
       "array([10.83314363,  8.87911977, 10.30251906,  5.65783404, 10.30007287,\n",
       "       11.36695242,  8.32670659,  9.25434095,  7.98377968, 10.82464545,\n",
       "        8.562528  ,  6.55410774,  8.65884552,  9.08834272,  5.80618938,\n",
       "        9.72984325,  7.69471444, 11.09961896, 10.62871169,  8.1980769 ,\n",
       "        7.63993853,  7.22801638,  8.57808249,  8.04365555,  9.31028669,\n",
       "       10.30727433,  6.32110049, 11.01121416,  9.93712741,  9.99551365,\n",
       "        7.98169856,  5.92709739, 10.93473791, 12.00318875,  7.83050693,\n",
       "        8.86880729,  8.56376513,  9.85586401,  8.1635189 , 10.79921289,\n",
       "       10.48069037,  9.57742049, 10.00610192, 10.1865235 , 11.20975606,\n",
       "        9.08630843,  9.58255016, 11.57675568,  9.92058937,  7.9447447 ,\n",
       "       10.71062795,  7.541588  ,  9.15654745, 11.27739582,  9.09047887,\n",
       "        8.40420731,  6.48951993,  7.48739515,  7.640941  ,  7.34465272,\n",
       "        9.9651208 ,  9.69877623, 10.13437377,  8.29814895,  7.95060194,\n",
       "       10.63799032, 11.12388825, 10.97521016,  8.91016361, 11.78821096,\n",
       "        9.13381126, 12.3073291 , 10.71903335, 10.4681888 , 10.45928135,\n",
       "        8.86814245,  9.59383301,  9.79441853, 10.20515795,  8.5737365 ,\n",
       "       10.30647397,  6.33531076,  7.52749547, 11.05154379,  9.40602665,\n",
       "        8.36600652,  9.89007575, 11.0618219 ,  6.24638586,  7.26666695,\n",
       "        9.6423429 , 10.49730319,  8.46959614,  5.35207992, 10.25274156,\n",
       "        6.45728489,  9.54001329,  7.81612355, 10.93905947, 10.68415593,\n",
       "       10.35637433,  9.49986922, 10.65277387, 10.31413754,  5.66222899,\n",
       "       10.98133015,  8.17536623,  7.2069499 ,  7.38455456, 11.24018642,\n",
       "        9.61459972, 10.31597641, 10.18588975,  9.44999054, 11.26444089,\n",
       "       10.20482552, 10.73680772, 11.41529654,  7.17130438,  9.31177783,\n",
       "        7.28459471, 10.62092953,  7.23829493,  8.77786337, 10.21723858,\n",
       "       11.53115616, 10.40099421, 11.02089946,  7.87918331, 10.72981622,\n",
       "       10.32793299,  8.91349049,  9.21463601, 10.35226044, 10.90885547,\n",
       "       10.35209141,  9.65783658,  8.80004683,  7.4543266 , 11.51907096,\n",
       "        9.7499426 ,  9.61958879,  7.28175762,  8.90641495, 10.92274293,\n",
       "        9.75939092,  8.68082511,  8.12214704,  8.31603987,  6.83816705,\n",
       "        8.97783976, 12.67624234,  7.44088385, 11.00976558,  7.57776646,\n",
       "        7.19546158, 10.22045933,  7.86681516, 10.75049849,  7.48642382,\n",
       "        9.32754191,  7.41464092,  9.50518119, 10.5586992 ,  5.73522927,\n",
       "       10.59788885,  7.46247194,  6.79612114, 10.23618725,  9.33676419,\n",
       "        8.96705875,  6.88125713,  9.06923468, 10.31874854, 10.94900479,\n",
       "        9.79994347,  6.02080224,  8.2871536 ,  7.85755674, 10.36454911,\n",
       "        9.26408219, 10.52012532,  8.789071  ,  9.06343116, 10.21058555,\n",
       "        9.73765952,  9.22162244,  8.57344657,  6.93441769,  8.99021565,\n",
       "       10.4094616 , 10.01599745,  9.02931325, 10.09687772,  9.798658  ,\n",
       "        9.28180635,  7.95449808,  8.92338411,  6.28515577, 12.26972732,\n",
       "        9.5409711 ,  9.60473649, 11.50044275,  9.43497559, 10.00265232,\n",
       "       11.01391149,  6.74061391, 11.398189  ,  9.28794756, 10.21762167,\n",
       "        6.03814436,  9.70135035, 10.60924198,  9.7328751 , 10.65608536,\n",
       "        9.57052278,  9.68266897, 10.53734504,  5.98897429, 11.28918613,\n",
       "       10.22428705, 10.89696766,  8.40152448, 10.33937816, 10.51889882,\n",
       "       10.88523318, 10.44865311,  9.2453395 , 11.22086684,  8.93769998,\n",
       "        9.36746053,  9.08408091,  6.58872242, 10.90566747,  8.4715121 ,\n",
       "       10.54219537,  8.55106522,  5.84899986,  8.54638939,  9.65865767,\n",
       "        9.44783096, 10.13316569, 10.6213906 , 10.77190368,  9.3745535 ,\n",
       "        9.69567228, 10.91759073,  8.27129655, 10.49658294, 11.64503932,\n",
       "       10.8874026 ,  8.47293234, 10.8875715 ,  9.25146066,  9.59133263,\n",
       "       10.10400366,  7.44106825,  8.98319993,  9.69420444, 11.95150722,\n",
       "       10.41448539,  8.80489746, 10.43490565,  7.38262894,  9.65916971,\n",
       "        8.49660456,  9.3673385 ,  7.83180542,  7.91156735,  7.53112266,\n",
       "       10.54987492,  8.47630793,  8.02627786,  8.29937215,  6.58025391,\n",
       "       10.670724  , 11.57910519,  8.98483392, 10.67839084,  9.50207001,\n",
       "        7.01471936, 11.60744588,  7.34223884,  9.61890914, 10.51467539,\n",
       "       10.36413131,  8.06923246, 10.33505141,  9.80844394, 11.17586039,\n",
       "        8.06438476,  8.81973333,  6.41519414,  9.46130792,  7.41541226,\n",
       "        8.32906571,  7.03675424,  6.33366656,  9.74393862, 12.35818048,\n",
       "        9.22659778,  8.66968364, 11.48060911,  9.22540408,  9.29487728,\n",
       "        8.31663698,  9.35015213, 10.28006169, 10.79769888,  9.87861707,\n",
       "       10.29229966, 10.24498509,  8.29430247, 10.03164883, 12.42421009,\n",
       "       10.79837648,  8.95625669,  7.12190766,  8.36860226,  9.74880485,\n",
       "       11.1138777 ,  9.5614546 ,  8.96449424,  9.98508402, 10.85890567,\n",
       "        9.87889184,  9.03287712,  9.35166508, 12.55334671,  9.73679161,\n",
       "        8.69222698, 10.68554355,  6.43687297, 10.5441785 ,  9.54654103,\n",
       "       10.46176576,  7.45843274,  8.74172511, 10.49258182, 10.06604981,\n",
       "        8.92766412,  9.44478323, 10.63797643, 11.00405806, 10.54539136,\n",
       "        7.79655997,  6.38529222, 10.19853036, 10.64131771,  7.63785289,\n",
       "        6.47146614,  8.92373178, 11.07007357, 10.95126474, 10.25677084,\n",
       "        9.37259718, 10.52845542,  9.62640204,  8.24391186, 10.03855161,\n",
       "        9.05218584, 10.05449584,  8.3146567 ,  9.30115949,  9.368159  ,\n",
       "        7.06109788,  6.40861051,  9.21181408,  8.9062723 ,  9.45690769,\n",
       "       10.58390806,  7.4764022 , 10.94043338,  7.95449468, 11.72949939,\n",
       "       11.18176151, 11.77472308,  8.07422916, 10.14658309,  6.23023447,\n",
       "        8.78673615,  9.96313458,  9.72913573, 11.44815311,  6.74131801,\n",
       "       10.72693257, 12.69924815,  8.85625974,  7.82363251,  6.66166334,\n",
       "       12.27889794, 10.30754488, 10.17866457,  9.33551191, 12.84572067,\n",
       "        7.64461427, 10.44635157,  8.81155453, 10.1554628 ,  9.54202448,\n",
       "        8.33395197,  9.78783722,  7.12885309, 11.77995489,  8.90956463,\n",
       "       10.03049761,  6.81362987, 10.99494766, 12.35546825,  9.514314  ,\n",
       "        9.46856192,  8.00445834, 10.13072816,  9.74247041, 12.06119771,\n",
       "        9.81480776, 10.57655873, 10.3688878 , 12.55193504, 10.72186086,\n",
       "       10.0096724 ,  9.09661116, 10.43392517, 10.69228133,  6.40544584,\n",
       "        9.31543521,  9.83260632, 11.11948349, 10.92570589, 11.59210181,\n",
       "        9.19041246, 10.38462935,  9.39977708, 10.74992902,  8.35562748,\n",
       "        9.5056684 , 11.57087608, 10.1067915 ,  9.5987566 , 10.4996232 ,\n",
       "        7.96241446,  6.99767436, 11.36152768,  8.09134614,  7.22332179,\n",
       "        7.41733645, 11.44735218,  5.96691268,  9.75905554, 10.71610202,\n",
       "        6.40982416,  7.21168026,  9.81984855,  7.13256158,  2.61092208,\n",
       "        8.38012509, 10.57007242,  9.47408786,  9.26558815, 11.15332447,\n",
       "        7.55819105, 12.51353739,  8.87136241, 10.37733585,  9.1178337 ,\n",
       "       10.80454128,  7.24678388, 14.30701579,  9.08293553,  8.65289414,\n",
       "        9.11121168,  9.86545649,  8.09670857, 11.62200628,  8.81457328,\n",
       "        8.9629089 ,  8.05797737,  8.09959513,  7.66622837, 10.32746424,\n",
       "        9.97386218, 11.00450161,  8.71146206, 10.21671922, 11.7720375 ,\n",
       "       11.08470981, 10.06491976,  9.92915439,  8.63243152, 10.68313088,\n",
       "        6.17912681,  9.79479347, 10.78572212, 10.07977576,  7.10353035,\n",
       "        7.66280767,  8.09044845,  6.5211312 , 10.0843394 ,  9.93222617,\n",
       "        7.94312747, 11.14099542,  7.44521316, 10.55723899, 10.35110318,\n",
       "       10.24109682, 10.33447073, 11.15025438,  7.56377213,  6.24686305,\n",
       "        9.79146778,  9.86205994, 12.25210114, 12.15264666,  9.05048942,\n",
       "        8.48653454, 10.52223695,  9.84084187, 11.4889956 ,  9.75444877,\n",
       "        9.59179683,  9.6146756 , 10.64195608, 10.26789143,  7.11420305,\n",
       "       10.66014103,  9.1518237 ,  9.68644479,  8.73693303,  8.64915376,\n",
       "        8.27708051,  7.86813572,  8.70669127, 10.06822022,  5.65826051,\n",
       "        9.89175691, 10.61479487, 11.39891777,  8.90660835, 11.30867244,\n",
       "        8.60247856, 10.12908923,  8.08640076, 11.29008537,  8.02034431,\n",
       "       10.43434035,  8.36427835,  9.15149467, 10.11430345,  9.77930172,\n",
       "       10.4162577 , 10.54236393,  8.17894878, 11.18765281, 10.32744198,\n",
       "        7.96294669,  8.62208312, 10.08032149, 10.27836812,  9.97139294,\n",
       "       10.70013542, 10.04742797, 11.13631664,  9.67431921, 10.40895509,\n",
       "        6.50759741,  8.98822187,  8.6594759 ,  9.81397202,  8.12173998,\n",
       "       10.45264046,  9.46953902,  8.55535517,  9.73993774,  9.04935285,\n",
       "        7.83600203, 10.4530677 , 10.34420245, 10.77132117,  6.2231286 ,\n",
       "       11.83921591,  6.39360482,  6.0051116 ,  6.60130497,  8.8799049 ,\n",
       "        9.6659968 , 14.23249997, 10.27079325,  8.76756094, 10.67081566,\n",
       "        6.17003215,  8.84865738, 10.24867738,  7.51899627, 10.46069976,\n",
       "       10.09847156,  5.88233726,  8.31779859,  6.73393759, 10.14177327,\n",
       "        8.53697101, 11.16904988, 10.50969782,  9.45601791, 10.69235103,\n",
       "        9.29802656,  9.81730321,  7.38828131,  9.08906447, 10.75837644,\n",
       "        7.72162325, 10.87377952,  9.96323681,  8.77969213, 10.4818227 ,\n",
       "       11.45085394,  8.64914368,  7.7906419 , 11.66178507, 10.47878227,\n",
       "        9.83830964, 11.12020038,  7.63117781,  9.78803915, 10.22900556,\n",
       "       10.64259898,  8.35657241, 10.75024991,  8.68612876,  9.85543939,\n",
       "        8.95122041,  7.36091182,  8.53646962,  8.28264451,  8.17147319,\n",
       "        9.45952089,  5.58801676, 12.17807175,  9.49807341,  9.79457943,\n",
       "        9.17599258, 10.34987401, 10.42733975, 10.35117301, 10.17148564,\n",
       "        9.39918269,  7.77019266,  9.19125414, 10.59949724,  9.33588506,\n",
       "        8.59288319,  8.61075893,  8.92616458,  9.60682059,  7.27995267,\n",
       "       11.44789231,  7.70554693,  8.13663818, 10.38815267, 11.71237078,\n",
       "        9.53870965,  7.90858234, 11.35924716, 10.47087517, 10.41344703,\n",
       "        8.75614414,  8.68873875,  6.62892987,  6.88980603, 10.01372675,\n",
       "        9.58344283, 10.95030921, 12.35369422, 11.41904565,  5.82667777,\n",
       "        7.85338569,  8.59645297,  6.65164119,  8.69177968, 12.01849173,\n",
       "       11.60311706,  9.40855544, 10.44651335,  9.6363943 ,  9.71615814,\n",
       "        7.81669086, 10.47947233, 10.59167323,  9.55317182, 13.37543758,\n",
       "        9.70880332, 10.21602397, 10.58103437, 11.87424962,  8.24381647,\n",
       "       10.75787436, 12.27503702, 10.47651221,  8.74780073,  8.8538465 ,\n",
       "        7.22531566, 10.19357941,  9.84483608, 11.32119669,  9.13882074,\n",
       "       10.34303149,  9.38305598,  8.23712478, 11.20998687, 10.41866733,\n",
       "        6.57687728,  6.7720345 ,  6.29999827, 10.16363569,  7.78000714,\n",
       "        9.3607857 , 10.53339463,  8.6932127 ,  7.83571287,  8.21553652,\n",
       "       10.84109146,  6.51691471,  9.36923722,  7.19048352, 11.07115358,\n",
       "        6.18185674,  9.44948904,  8.73284716, 10.15402928, 10.85101565,\n",
       "        9.30637759, 10.38533704, 11.0035764 , 11.61429781,  8.92743164,\n",
       "        9.65840746,  8.97650789,  9.41432087,  8.72948283,  6.41265945,\n",
       "       10.63742388,  9.5555134 ,  7.17890398,  7.55420235, 10.32983596,\n",
       "        7.5566596 ,  9.5743245 ,  9.17806566,  8.76508227,  9.22050826,\n",
       "        9.29337245,  9.251188  ,  7.8111892 , 10.62154681,  8.66315316,\n",
       "       11.10609183,  9.35061935,  7.50428691,  9.35112924, 11.83951107,\n",
       "        7.1767723 ,  6.69783943,  7.43210344,  6.3289241 , 10.66183087,\n",
       "        9.32517037, 10.40272992,  8.50055092, 11.0534778 ,  8.99546355,\n",
       "        7.28979598,  9.16239321, 10.92359758,  9.73087069,  9.62193574,\n",
       "        9.52206151,  7.41386267, 11.20573293,  7.54365127, 10.26489392,\n",
       "       12.08873636, 11.08768796,  7.93245583,  7.46616816,  8.3670231 ,\n",
       "        9.20188111,  9.76691607,  8.25027715, 10.52197279,  9.95735802,\n",
       "        9.55050024, 10.21578173, 11.21943308,  9.8176576 , 11.10219356,\n",
       "        9.33129214,  9.81080299, 10.23882767,  6.04079393, 10.44927954,\n",
       "        9.55720041,  8.08646188,  8.96633899,  6.46992436,  6.89116966,\n",
       "        9.01641728,  9.21301204, 11.05248461,  7.80492954,  8.8805221 ,\n",
       "        8.56634918,  8.30309952,  9.40568073, 10.86267874, 10.8536211 ,\n",
       "        9.81141558,  9.80217442, 10.74679538, 10.41099778,  8.89019109,\n",
       "        6.42924759,  9.4687176 , 10.24589612,  7.00765057,  8.40608443,\n",
       "        9.58530901, 11.02281373,  9.73566456,  6.90882947,  7.00549745,\n",
       "        8.64542823, 10.35251229,  8.40962124,  8.24781543, 10.29435616,\n",
       "        5.93336534])"
      ]
     },
     "execution_count": 38,
     "metadata": {},
     "output_type": "execute_result"
    }
   ],
   "source": [
    "test_pred=regressor.predict(x_test)\n",
    "test_pred"
   ]
  },
  {
   "cell_type": "code",
   "execution_count": null,
   "id": "d61a3bb0",
   "metadata": {},
   "outputs": [],
   "source": []
  },
  {
   "cell_type": "markdown",
   "id": "7b16821d",
   "metadata": {},
   "source": [
    "# 14. Measure the performance using Metrics."
   ]
  },
  {
   "cell_type": "code",
   "execution_count": 42,
   "id": "828ef0fc",
   "metadata": {},
   "outputs": [
    {
     "name": "stdout",
     "output_type": "stream",
     "text": [
      "MAE:  1.3350145795204889\n"
     ]
    }
   ],
   "source": [
    "#Mean Absolute Error(MAE)\n",
    "from sklearn.metrics import mean_absolute_error\n",
    "print(\"MAE: \",mean_absolute_error(y_test,test_pred))"
   ]
  },
  {
   "cell_type": "code",
   "execution_count": 43,
   "id": "ea5e62a6",
   "metadata": {},
   "outputs": [
    {
     "name": "stdout",
     "output_type": "stream",
     "text": [
      "1.7027344105939934\n"
     ]
    }
   ],
   "source": [
    "#Mean Squared Error(MSE)\n",
    "from sklearn.metrics import mean_squared_error\n",
    "MSE=mean_squared_error(y_test,test_pred)\n",
    "print(MSE**.5)"
   ]
  },
  {
   "cell_type": "code",
   "execution_count": 44,
   "id": "09ef2d71",
   "metadata": {},
   "outputs": [
    {
     "name": "stdout",
     "output_type": "stream",
     "text": [
      "R2:  0.4812104537380094\n"
     ]
    }
   ],
   "source": [
    "#R Squared (R2)\n",
    "from sklearn.metrics import r2_score\n",
    "r2 = r2_score(y_test,test_pred)\n",
    "print(\"R2: \",r2)"
   ]
  },
  {
   "cell_type": "code",
   "execution_count": null,
   "id": "446a7ea2",
   "metadata": {},
   "outputs": [],
   "source": []
  }
 ],
 "metadata": {
  "kernelspec": {
   "display_name": "Python 3 (ipykernel)",
   "language": "python",
   "name": "python3"
  },
  "language_info": {
   "codemirror_mode": {
    "name": "ipython",
    "version": 3
   },
   "file_extension": ".py",
   "mimetype": "text/x-python",
   "name": "python",
   "nbconvert_exporter": "python",
   "pygments_lexer": "ipython3",
   "version": "3.9.12"
  }
 },
 "nbformat": 4,
 "nbformat_minor": 5
}
